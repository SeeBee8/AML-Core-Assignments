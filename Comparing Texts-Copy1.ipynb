{
 "cells": [
  {
   "cell_type": "markdown",
   "id": "8a37689e-2907-4007-b75f-4dad1d809397",
   "metadata": {},
   "source": [
    "# Text Classification with Sklearn\n",
    "(Core)\n",
    "\n",
    "*Christina Brockway*"
   ]
  },
  {
   "cell_type": "markdown",
   "id": "5cba0e4b-be22-4253-9834-0f3b20450524",
   "metadata": {},
   "source": [
    "## Make a copy  of last assignment and run notebook"
   ]
  },
  {
   "cell_type": "markdown",
   "id": "cd4bd2ce-c162-4055-a6e9-0fbfb0a83c97",
   "metadata": {},
   "source": [
    "Using:  https://www.gnu.org/licenses/agpl-3.0.html\n",
    "downloaded from Kaggle\n",
    "\n",
    "This data set contains labeled real and fake news articles from around the 2017 US presidential elections\n",
    "\n",
    "Task:  Create a model to detect fake news articles"
   ]
  },
  {
   "cell_type": "markdown",
   "id": "d4e210dc-5dd0-4323-aaf0-b81f925c2c32",
   "metadata": {},
   "source": [
    "1.  Clean the data. Remove any unnecessary columns and check for/remove duplicates.xt"
   ]
  },
  {
   "cell_type": "markdown",
   "id": "efac3f27-dcac-4b3b-9ec0-75c9e2dc732c",
   "metadata": {},
   "source": [
    "2.  Prepare the data. Create 3 new columns:\n",
    "    1.  Tokenized texts:\n",
    "        -  just split the texts, don't remove stopwords or punctuation  \n",
    "    2.  Lemmatized texts:\n",
    "        -  remove stopwords, and punctuation, and lemmatize the words\n",
    "        -  IMPORTANT! When you load in the SpaCy NLP object, remember to disable the parser and named object recognizer using the following: spacy.load('en_core_web_sm', disable=['parser', 'ner']  \n",
    "    3.  Join lemmatized data into a single string"
   ]
  },
  {
   "cell_type": "markdown",
   "id": "b8d06d74-b24e-41c8-8d05-8c5ad60c7a3f",
   "metadata": {},
   "source": [
    "3.  Analyze class balance and document lengths\n",
    "    *  What is the class balance? How many real and fake articles are there?\n",
    "    *  What is the average word count for real news articles? What about fake ones?"
   ]
  },
  {
   "cell_type": "markdown",
   "id": "bc87160f-0ca2-4e8d-be82-a47fc711a8d0",
   "metadata": {},
   "source": [
    "4.  Compare the word frequencies using joined lemmatized text\n",
    "    *  Create and plot the frequency distribution plots for the 20 most common words in real and fake news articles. (2 total plots)\n",
    "    *  Create word clouds for each of the article types, real and fake"
   ]
  },
  {
   "cell_type": "code",
   "execution_count": null,
   "id": "1ab05e21-0b4e-4d36-ae57-6f7de9472478",
   "metadata": {},
   "outputs": [],
   "source": []
  },
  {
   "cell_type": "code",
   "execution_count": 1,
   "id": "5e72309b-9b60-4d07-8d66-c68a7abc8217",
   "metadata": {},
   "outputs": [
    {
     "name": "stdout",
     "output_type": "stream",
     "text": [
      "\u001b[38;5;2m✔ Download and installation successful\u001b[0m\n",
      "You can now load the package via spacy.load('en_core_web_sm')\n"
     ]
    }
   ],
   "source": [
    "import pandas as pd\n",
    "import matplotlib.pyplot as plt\n",
    "from wordcloud import WordCloud\n",
    "from wordcloud import STOPWORDS\n",
    "from nltk.probability import FreqDist\n",
    "import nltk\n",
    "import spacy \n",
    "from spacy.cli import download\n",
    "download('en_core_web_sm') \n",
    "\n",
    "# New pandas option to change: \n",
    "pd.get_option('display.max_colwidth')\n",
    "# Increase column width\n",
    "pd.set_option('display.max_colwidth', 250)"
   ]
  },
  {
   "cell_type": "markdown",
   "id": "0ba71248-88cf-4248-8bc1-3ebbc9a39265",
   "metadata": {},
   "source": [
    "## 1.  Clean the Data\n",
    "Remove any unnecessary columns and check for/remove duplicates."
   ]
  },
  {
   "cell_type": "code",
   "execution_count": 2,
   "id": "b06b276e-88df-4d48-abb8-ae9d46a17032",
   "metadata": {},
   "outputs": [
    {
     "data": {
      "text/html": [
       "<div>\n",
       "<style scoped>\n",
       "    .dataframe tbody tr th:only-of-type {\n",
       "        vertical-align: middle;\n",
       "    }\n",
       "\n",
       "    .dataframe tbody tr th {\n",
       "        vertical-align: top;\n",
       "    }\n",
       "\n",
       "    .dataframe thead th {\n",
       "        text-align: right;\n",
       "    }\n",
       "</style>\n",
       "<table border=\"1\" class=\"dataframe\">\n",
       "  <thead>\n",
       "    <tr style=\"text-align: right;\">\n",
       "      <th></th>\n",
       "      <th>Unnamed: 0</th>\n",
       "      <th>title</th>\n",
       "      <th>text</th>\n",
       "      <th>label</th>\n",
       "    </tr>\n",
       "  </thead>\n",
       "  <tbody>\n",
       "    <tr>\n",
       "      <th>0</th>\n",
       "      <td>0</td>\n",
       "      <td>A whirlwind day in D.C. showcases Trump’s unorthodox views and shifting tone</td>\n",
       "      <td>Donald Trump endorsed an unabashedly noninterventionist approach to world affairs Monday during a day-long tour of Washington, casting doubt on the need for the North Atlantic Treaty Organization and expressing skepticism about a muscular U.S. mi...</td>\n",
       "      <td>REAL</td>\n",
       "    </tr>\n",
       "    <tr>\n",
       "      <th>1</th>\n",
       "      <td>1</td>\n",
       "      <td>In Baltimore's call for federal police probe, a new search for answers (+video)</td>\n",
       "      <td>While some Justice Department investigations are adversarial, a new model of collaborative reform is surprising police in some cities, as they find themselves included as part of the solution.\\n\\nSearching for a \"framework ... [to] heal,\" Baltimo...</td>\n",
       "      <td>REAL</td>\n",
       "    </tr>\n",
       "  </tbody>\n",
       "</table>\n",
       "</div>"
      ],
      "text/plain": [
       "   Unnamed: 0  \\\n",
       "0           0   \n",
       "1           1   \n",
       "\n",
       "                                                                             title  \\\n",
       "0     A whirlwind day in D.C. showcases Trump’s unorthodox views and shifting tone   \n",
       "1  In Baltimore's call for federal police probe, a new search for answers (+video)   \n",
       "\n",
       "                                                                                                                                                                                                                                                        text  \\\n",
       "0  Donald Trump endorsed an unabashedly noninterventionist approach to world affairs Monday during a day-long tour of Washington, casting doubt on the need for the North Atlantic Treaty Organization and expressing skepticism about a muscular U.S. mi...   \n",
       "1  While some Justice Department investigations are adversarial, a new model of collaborative reform is surprising police in some cities, as they find themselves included as part of the solution.\\n\\nSearching for a \"framework ... [to] heal,\" Baltimo...   \n",
       "\n",
       "  label  \n",
       "0  REAL  \n",
       "1  REAL  "
      ]
     },
     "execution_count": 2,
     "metadata": {},
     "output_type": "execute_result"
    }
   ],
   "source": [
    "df = pd.read_csv('data/Fake_Real_News_Data.csv')\n",
    "df.head(2)"
   ]
  },
  {
   "cell_type": "code",
   "execution_count": 3,
   "id": "1b6188f5-fca7-43d9-996f-c7a1d48c71f3",
   "metadata": {},
   "outputs": [],
   "source": [
    "df= df.drop(columns='Unnamed: 0', errors='ignore')"
   ]
  },
  {
   "cell_type": "code",
   "execution_count": 4,
   "id": "9a206eff-a4f5-4f51-b23e-cae41922ee74",
   "metadata": {},
   "outputs": [
    {
     "data": {
      "text/plain": [
       "29"
      ]
     },
     "execution_count": 4,
     "metadata": {},
     "output_type": "execute_result"
    }
   ],
   "source": [
    "df.duplicated().sum()"
   ]
  },
  {
   "cell_type": "code",
   "execution_count": 5,
   "id": "34ec9865-c0f4-4400-b533-3097bbdd0c0c",
   "metadata": {},
   "outputs": [],
   "source": [
    "df = df.drop_duplicates()"
   ]
  },
  {
   "cell_type": "code",
   "execution_count": 6,
   "id": "79ab4b85-bc2d-47a1-a3f4-e7c217dff57f",
   "metadata": {},
   "outputs": [
    {
     "data": {
      "text/plain": [
       "0"
      ]
     },
     "execution_count": 6,
     "metadata": {},
     "output_type": "execute_result"
    }
   ],
   "source": [
    "df.duplicated().sum()"
   ]
  },
  {
   "cell_type": "code",
   "execution_count": 7,
   "id": "60fce299-8b45-4fe3-8158-525435f7298f",
   "metadata": {},
   "outputs": [
    {
     "data": {
      "text/plain": [
       "title    0\n",
       "text     0\n",
       "label    0\n",
       "dtype: int64"
      ]
     },
     "execution_count": 7,
     "metadata": {},
     "output_type": "execute_result"
    }
   ],
   "source": [
    "df.isna().sum()"
   ]
  },
  {
   "cell_type": "code",
   "execution_count": 8,
   "id": "b1866011-d38f-477d-9c22-4086e8e30aa7",
   "metadata": {},
   "outputs": [
    {
     "data": {
      "text/html": [
       "<div>\n",
       "<style scoped>\n",
       "    .dataframe tbody tr th:only-of-type {\n",
       "        vertical-align: middle;\n",
       "    }\n",
       "\n",
       "    .dataframe tbody tr th {\n",
       "        vertical-align: top;\n",
       "    }\n",
       "\n",
       "    .dataframe thead th {\n",
       "        text-align: right;\n",
       "    }\n",
       "</style>\n",
       "<table border=\"1\" class=\"dataframe\">\n",
       "  <thead>\n",
       "    <tr style=\"text-align: right;\">\n",
       "      <th></th>\n",
       "      <th>title</th>\n",
       "      <th>text</th>\n",
       "      <th>label</th>\n",
       "      <th>news</th>\n",
       "    </tr>\n",
       "  </thead>\n",
       "  <tbody>\n",
       "    <tr>\n",
       "      <th>0</th>\n",
       "      <td>A whirlwind day in D.C. showcases Trump’s unorthodox views and shifting tone</td>\n",
       "      <td>Donald Trump endorsed an unabashedly noninterventionist approach to world affairs Monday during a day-long tour of Washington, casting doubt on the need for the North Atlantic Treaty Organization and expressing skepticism about a muscular U.S. mi...</td>\n",
       "      <td>REAL</td>\n",
       "      <td>A whirlwind day in D.C. showcases Trump’s unorthodox views and shifting tone: Donald Trump endorsed an unabashedly noninterventionist approach to world affairs Monday during a day-long tour of Washington, casting doubt on the need for the North A...</td>\n",
       "    </tr>\n",
       "    <tr>\n",
       "      <th>1</th>\n",
       "      <td>In Baltimore's call for federal police probe, a new search for answers (+video)</td>\n",
       "      <td>While some Justice Department investigations are adversarial, a new model of collaborative reform is surprising police in some cities, as they find themselves included as part of the solution.\\n\\nSearching for a \"framework ... [to] heal,\" Baltimo...</td>\n",
       "      <td>REAL</td>\n",
       "      <td>In Baltimore's call for federal police probe, a new search for answers (+video): While some Justice Department investigations are adversarial, a new model of collaborative reform is surprising police in some cities, as they find themselves includ...</td>\n",
       "    </tr>\n",
       "  </tbody>\n",
       "</table>\n",
       "</div>"
      ],
      "text/plain": [
       "                                                                             title  \\\n",
       "0     A whirlwind day in D.C. showcases Trump’s unorthodox views and shifting tone   \n",
       "1  In Baltimore's call for federal police probe, a new search for answers (+video)   \n",
       "\n",
       "                                                                                                                                                                                                                                                        text  \\\n",
       "0  Donald Trump endorsed an unabashedly noninterventionist approach to world affairs Monday during a day-long tour of Washington, casting doubt on the need for the North Atlantic Treaty Organization and expressing skepticism about a muscular U.S. mi...   \n",
       "1  While some Justice Department investigations are adversarial, a new model of collaborative reform is surprising police in some cities, as they find themselves included as part of the solution.\\n\\nSearching for a \"framework ... [to] heal,\" Baltimo...   \n",
       "\n",
       "  label  \\\n",
       "0  REAL   \n",
       "1  REAL   \n",
       "\n",
       "                                                                                                                                                                                                                                                        news  \n",
       "0  A whirlwind day in D.C. showcases Trump’s unorthodox views and shifting tone: Donald Trump endorsed an unabashedly noninterventionist approach to world affairs Monday during a day-long tour of Washington, casting doubt on the need for the North A...  \n",
       "1  In Baltimore's call for federal police probe, a new search for answers (+video): While some Justice Department investigations are adversarial, a new model of collaborative reform is surprising police in some cities, as they find themselves includ...  "
      ]
     },
     "execution_count": 8,
     "metadata": {},
     "output_type": "execute_result"
    }
   ],
   "source": [
    "#Combine Title with Text\n",
    "df['news'] = df['title'] + \": \" + df['text']\n",
    "df.head(2)"
   ]
  },
  {
   "cell_type": "code",
   "execution_count": 9,
   "id": "6494cf88-f546-45f8-831a-f0156ebbc430",
   "metadata": {},
   "outputs": [
    {
     "data": {
      "text/html": [
       "<div>\n",
       "<style scoped>\n",
       "    .dataframe tbody tr th:only-of-type {\n",
       "        vertical-align: middle;\n",
       "    }\n",
       "\n",
       "    .dataframe tbody tr th {\n",
       "        vertical-align: top;\n",
       "    }\n",
       "\n",
       "    .dataframe thead th {\n",
       "        text-align: right;\n",
       "    }\n",
       "</style>\n",
       "<table border=\"1\" class=\"dataframe\">\n",
       "  <thead>\n",
       "    <tr style=\"text-align: right;\">\n",
       "      <th></th>\n",
       "      <th>label</th>\n",
       "      <th>news</th>\n",
       "    </tr>\n",
       "  </thead>\n",
       "  <tbody>\n",
       "    <tr>\n",
       "      <th>0</th>\n",
       "      <td>REAL</td>\n",
       "      <td>A whirlwind day in D.C. showcases Trump’s unorthodox views and shifting tone: Donald Trump endorsed an unabashedly noninterventionist approach to world affairs Monday during a day-long tour of Washington, casting doubt on the need for the North A...</td>\n",
       "    </tr>\n",
       "    <tr>\n",
       "      <th>1</th>\n",
       "      <td>REAL</td>\n",
       "      <td>In Baltimore's call for federal police probe, a new search for answers (+video): While some Justice Department investigations are adversarial, a new model of collaborative reform is surprising police in some cities, as they find themselves includ...</td>\n",
       "    </tr>\n",
       "  </tbody>\n",
       "</table>\n",
       "</div>"
      ],
      "text/plain": [
       "  label  \\\n",
       "0  REAL   \n",
       "1  REAL   \n",
       "\n",
       "                                                                                                                                                                                                                                                        news  \n",
       "0  A whirlwind day in D.C. showcases Trump’s unorthodox views and shifting tone: Donald Trump endorsed an unabashedly noninterventionist approach to world affairs Monday during a day-long tour of Washington, casting doubt on the need for the North A...  \n",
       "1  In Baltimore's call for federal police probe, a new search for answers (+video): While some Justice Department investigations are adversarial, a new model of collaborative reform is surprising police in some cities, as they find themselves includ...  "
      ]
     },
     "execution_count": 9,
     "metadata": {},
     "output_type": "execute_result"
    }
   ],
   "source": [
    "df=df.drop(columns=['title', 'text'])\n",
    "df.head(2)"
   ]
  },
  {
   "cell_type": "code",
   "execution_count": 10,
   "id": "7ea82d8c-e980-4cef-9410-7eff52adc7ff",
   "metadata": {},
   "outputs": [
    {
     "data": {
      "text/plain": [
       "REAL    3154\n",
       "FAKE    3152\n",
       "Name: label, dtype: int64"
      ]
     },
     "execution_count": 10,
     "metadata": {},
     "output_type": "execute_result"
    }
   ],
   "source": [
    "df['label'].value_counts()"
   ]
  },
  {
   "cell_type": "code",
   "execution_count": null,
   "id": "93f6cad4-2780-433a-9c94-5d22361415bb",
   "metadata": {},
   "outputs": [],
   "source": []
  },
  {
   "cell_type": "markdown",
   "id": "c1aeabfe-801f-4ae5-81e1-977204f8eede",
   "metadata": {},
   "source": [
    "## 2. Prepare the Data\n",
    "- Create 3 new Columns\n",
    "    1.  Tokenized texts\n",
    "    2.  Lemmatized textes\n",
    "    3.  Joined lemmatized data"
   ]
  },
  {
   "cell_type": "code",
   "execution_count": 11,
   "id": "3cc55fc6-b873-468a-ae0d-1e3f752d6ea1",
   "metadata": {},
   "outputs": [],
   "source": [
    "def batch_preprocess_texts(\n",
    "    texts,\n",
    "    nlp=None,\n",
    "    remove_stopwords=True,\n",
    "    remove_punct=True,\n",
    "    use_lemmas=True,\n",
    "    disable=[\"ner\"],\n",
    "    batch_size=50,\n",
    "    n_process=-1,\n",
    "):\n",
    "    \"\"\"Efficiently preprocess a collection of texts using nlp.pipe()\n",
    "\n",
    "    Args:\n",
    "        texts (collection of strings): collection of texts to process (e.g. df['text'])\n",
    "        nlp (spacy pipe), optional): Spacy nlp pipe. Defaults to None; if None, it creates a default 'en_core_web_sm' pipe.\n",
    "        remove_stopwords (bool, optional): Controls stopword removal. Defaults to True.\n",
    "        remove_punct (bool, optional): Controls punctuation removal. Defaults to True.\n",
    "        use_lemmas (bool, optional): lemmatize tokens. Defaults to False.\n",
    "        disable (list of strings, optional): named pipeline elements to disable. Defaults to [\"ner\"]: Used with nlp.pipe(disable=disable)\n",
    "        batch_size (int, optional): Number of texts to process in a batch. Defaults to 50.\n",
    "        n_process (int, optional): Number of CPU processors to use. Defaults to -1 (meaning all CPU cores).\n",
    "\n",
    "    Returns:\n",
    "        list of tokens\n",
    "    \"\"\"\n",
    "    # from tqdm.notebook import tqdm\n",
    "    from tqdm import tqdm\n",
    "\n",
    "    if nlp is None:\n",
    "        nlp = spacy.load(\"en_core_web_sm\")\n",
    "\n",
    "    processed_texts = []\n",
    "\n",
    "    for doc in tqdm(nlp.pipe(texts, disable=disable, batch_size=batch_size, n_process=n_process)):\n",
    "        tokens = []\n",
    "        for token in doc:\n",
    "            # Check if should remove stopwords and if token is stopword\n",
    "            if (remove_stopwords == True) and (token.is_stop == True):\n",
    "                # Continue the loop with the next token\n",
    "                continue\n",
    "\n",
    "            # Check if should remove stopwords and if token is stopword\n",
    "            if (remove_punct == True) and (token.is_punct == True):\n",
    "                continue\n",
    "\n",
    "            # Check if should remove stopwords and if token is stopword\n",
    "            if (remove_punct == True) and (token.is_space == True):\n",
    "                continue\n",
    "\n",
    "            \n",
    "            ## Determine final form of output list of tokens/lemmas\n",
    "            if use_lemmas:\n",
    "                tokens.append(token.lemma_.lower())\n",
    "            else:\n",
    "                tokens.append(token.text.lower())\n",
    "\n",
    "        processed_texts.append(tokens)\n",
    "    return processed_texts\n"
   ]
  },
  {
   "cell_type": "code",
   "execution_count": 12,
   "id": "1e991d25-3bd3-46fe-8be4-a042aba4409a",
   "metadata": {},
   "outputs": [
    {
     "data": {
      "text/html": [
       "<div>\n",
       "<style scoped>\n",
       "    .dataframe tbody tr th:only-of-type {\n",
       "        vertical-align: middle;\n",
       "    }\n",
       "\n",
       "    .dataframe tbody tr th {\n",
       "        vertical-align: top;\n",
       "    }\n",
       "\n",
       "    .dataframe thead th {\n",
       "        text-align: right;\n",
       "    }\n",
       "</style>\n",
       "<table border=\"1\" class=\"dataframe\">\n",
       "  <thead>\n",
       "    <tr style=\"text-align: right;\">\n",
       "      <th></th>\n",
       "      <th>label</th>\n",
       "      <th>news</th>\n",
       "    </tr>\n",
       "  </thead>\n",
       "  <tbody>\n",
       "    <tr>\n",
       "      <th>0</th>\n",
       "      <td>REAL</td>\n",
       "      <td>a whirlwind day in d.c. showcases trump’s unorthodox views and shifting tone: donald trump endorsed an unabashedly noninterventionist approach to world affairs monday during a day-long tour of washington, casting doubt on the need for the north a...</td>\n",
       "    </tr>\n",
       "    <tr>\n",
       "      <th>1</th>\n",
       "      <td>REAL</td>\n",
       "      <td>in baltimore's call for federal police probe, a new search for answers (+video): while some justice department investigations are adversarial, a new model of collaborative reform is surprising police in some cities, as they find themselves includ...</td>\n",
       "    </tr>\n",
       "  </tbody>\n",
       "</table>\n",
       "</div>"
      ],
      "text/plain": [
       "  label  \\\n",
       "0  REAL   \n",
       "1  REAL   \n",
       "\n",
       "                                                                                                                                                                                                                                                        news  \n",
       "0  a whirlwind day in d.c. showcases trump’s unorthodox views and shifting tone: donald trump endorsed an unabashedly noninterventionist approach to world affairs monday during a day-long tour of washington, casting doubt on the need for the north a...  \n",
       "1  in baltimore's call for federal police probe, a new search for answers (+video): while some justice department investigations are adversarial, a new model of collaborative reform is surprising police in some cities, as they find themselves includ...  "
      ]
     },
     "execution_count": 12,
     "metadata": {},
     "output_type": "execute_result"
    }
   ],
   "source": [
    "dflc=df.copy()\n",
    "dflc['news']=dflc['news'].str.lower()\n",
    "dflc.head(2)"
   ]
  },
  {
   "cell_type": "code",
   "execution_count": 13,
   "id": "f508403e-4abb-44b5-a276-4b41dc43c1b7",
   "metadata": {},
   "outputs": [
    {
     "data": {
      "text/html": [
       "<div>\n",
       "<style scoped>\n",
       "    .dataframe tbody tr th:only-of-type {\n",
       "        vertical-align: middle;\n",
       "    }\n",
       "\n",
       "    .dataframe tbody tr th {\n",
       "        vertical-align: top;\n",
       "    }\n",
       "\n",
       "    .dataframe thead th {\n",
       "        text-align: right;\n",
       "    }\n",
       "</style>\n",
       "<table border=\"1\" class=\"dataframe\">\n",
       "  <thead>\n",
       "    <tr style=\"text-align: right;\">\n",
       "      <th></th>\n",
       "      <th>label</th>\n",
       "      <th>news</th>\n",
       "      <th>tokens</th>\n",
       "    </tr>\n",
       "  </thead>\n",
       "  <tbody>\n",
       "    <tr>\n",
       "      <th>0</th>\n",
       "      <td>REAL</td>\n",
       "      <td>a whirlwind day in d.c. showcases trump’s unorthodox views and shifting tone: donald trump endorsed an unabashedly noninterventionist approach to world affairs monday during a day-long tour of washington, casting doubt on the need for the north a...</td>\n",
       "      <td>[a, whirlwind, day, in, d.c., showcases, trump’s, unorthodox, views, and, shifting, tone:, donald, trump, endorsed, an, unabashedly, noninterventionist, approach, to, world, affairs, monday, during, a, day-long, tour, of, washington,, casting, do...</td>\n",
       "    </tr>\n",
       "    <tr>\n",
       "      <th>1</th>\n",
       "      <td>REAL</td>\n",
       "      <td>in baltimore's call for federal police probe, a new search for answers (+video): while some justice department investigations are adversarial, a new model of collaborative reform is surprising police in some cities, as they find themselves includ...</td>\n",
       "      <td>[in, baltimore's, call, for, federal, police, probe,, a, new, search, for, answers, (+video):, while, some, justice, department, investigations, are, adversarial,, a, new, model, of, collaborative, reform, is, surprising, police, in, some, cities...</td>\n",
       "    </tr>\n",
       "  </tbody>\n",
       "</table>\n",
       "</div>"
      ],
      "text/plain": [
       "  label  \\\n",
       "0  REAL   \n",
       "1  REAL   \n",
       "\n",
       "                                                                                                                                                                                                                                                        news  \\\n",
       "0  a whirlwind day in d.c. showcases trump’s unorthodox views and shifting tone: donald trump endorsed an unabashedly noninterventionist approach to world affairs monday during a day-long tour of washington, casting doubt on the need for the north a...   \n",
       "1  in baltimore's call for federal police probe, a new search for answers (+video): while some justice department investigations are adversarial, a new model of collaborative reform is surprising police in some cities, as they find themselves includ...   \n",
       "\n",
       "                                                                                                                                                                                                                                                      tokens  \n",
       "0  [a, whirlwind, day, in, d.c., showcases, trump’s, unorthodox, views, and, shifting, tone:, donald, trump, endorsed, an, unabashedly, noninterventionist, approach, to, world, affairs, monday, during, a, day-long, tour, of, washington,, casting, do...  \n",
       "1  [in, baltimore's, call, for, federal, police, probe,, a, new, search, for, answers, (+video):, while, some, justice, department, investigations, are, adversarial,, a, new, model, of, collaborative, reform, is, surprising, police, in, some, cities...  "
      ]
     },
     "execution_count": 13,
     "metadata": {},
     "output_type": "execute_result"
    }
   ],
   "source": [
    "dflc['tokens'] = dflc['news'].str.split()\n",
    "dflc.head(2)"
   ]
  },
  {
   "cell_type": "code",
   "execution_count": 14,
   "id": "fd7cf222-429c-4de5-b575-c23acd611886",
   "metadata": {},
   "outputs": [
    {
     "data": {
      "text/plain": [
       "['tok2vec', 'tagger', 'parser', 'attribute_ruler', 'lemmatizer']"
      ]
     },
     "execution_count": 14,
     "metadata": {},
     "output_type": "execute_result"
    }
   ],
   "source": [
    "#Lemmatize text\n",
    "nlp = spacy.load('en_core_web_sm', disable=['paser','ner'])\n",
    "nlp.pipe_names"
   ]
  },
  {
   "cell_type": "code",
   "execution_count": 15,
   "id": "35d72e29-6dc8-439d-9580-8f8a5ba38aba",
   "metadata": {},
   "outputs": [
    {
     "name": "stderr",
     "output_type": "stream",
     "text": [
      "6306it [03:37, 28.96it/s] \n"
     ]
    },
    {
     "data": {
      "text/html": [
       "<div>\n",
       "<style scoped>\n",
       "    .dataframe tbody tr th:only-of-type {\n",
       "        vertical-align: middle;\n",
       "    }\n",
       "\n",
       "    .dataframe tbody tr th {\n",
       "        vertical-align: top;\n",
       "    }\n",
       "\n",
       "    .dataframe thead th {\n",
       "        text-align: right;\n",
       "    }\n",
       "</style>\n",
       "<table border=\"1\" class=\"dataframe\">\n",
       "  <thead>\n",
       "    <tr style=\"text-align: right;\">\n",
       "      <th></th>\n",
       "      <th>label</th>\n",
       "      <th>news</th>\n",
       "      <th>tokens</th>\n",
       "      <th>lemmas</th>\n",
       "    </tr>\n",
       "  </thead>\n",
       "  <tbody>\n",
       "    <tr>\n",
       "      <th>0</th>\n",
       "      <td>REAL</td>\n",
       "      <td>a whirlwind day in d.c. showcases trump’s unorthodox views and shifting tone: donald trump endorsed an unabashedly noninterventionist approach to world affairs monday during a day-long tour of washington, casting doubt on the need for the north a...</td>\n",
       "      <td>[a, whirlwind, day, in, d.c., showcases, trump’s, unorthodox, views, and, shifting, tone:, donald, trump, endorsed, an, unabashedly, noninterventionist, approach, to, world, affairs, monday, during, a, day-long, tour, of, washington,, casting, do...</td>\n",
       "      <td>[whirlwind, day, d.c, showcase, trump, unorthodox, view, shift, tone, donald, trump, endorse, unabashedly, noninterventionist, approach, world, affair, monday, day, long, tour, washington, cast, doubt, need, north, atlantic, treaty, organization,...</td>\n",
       "    </tr>\n",
       "    <tr>\n",
       "      <th>1</th>\n",
       "      <td>REAL</td>\n",
       "      <td>in baltimore's call for federal police probe, a new search for answers (+video): while some justice department investigations are adversarial, a new model of collaborative reform is surprising police in some cities, as they find themselves includ...</td>\n",
       "      <td>[in, baltimore's, call, for, federal, police, probe,, a, new, search, for, answers, (+video):, while, some, justice, department, investigations, are, adversarial,, a, new, model, of, collaborative, reform, is, surprising, police, in, some, cities...</td>\n",
       "      <td>[baltimore, federal, police, probe, new, search, answer, +, video, justice, department, investigation, adversarial, new, model, collaborative, reform, surprising, police, city, find, include, solution, search, framework, heal, baltimore, mayor, s...</td>\n",
       "    </tr>\n",
       "  </tbody>\n",
       "</table>\n",
       "</div>"
      ],
      "text/plain": [
       "  label  \\\n",
       "0  REAL   \n",
       "1  REAL   \n",
       "\n",
       "                                                                                                                                                                                                                                                        news  \\\n",
       "0  a whirlwind day in d.c. showcases trump’s unorthodox views and shifting tone: donald trump endorsed an unabashedly noninterventionist approach to world affairs monday during a day-long tour of washington, casting doubt on the need for the north a...   \n",
       "1  in baltimore's call for federal police probe, a new search for answers (+video): while some justice department investigations are adversarial, a new model of collaborative reform is surprising police in some cities, as they find themselves includ...   \n",
       "\n",
       "                                                                                                                                                                                                                                                      tokens  \\\n",
       "0  [a, whirlwind, day, in, d.c., showcases, trump’s, unorthodox, views, and, shifting, tone:, donald, trump, endorsed, an, unabashedly, noninterventionist, approach, to, world, affairs, monday, during, a, day-long, tour, of, washington,, casting, do...   \n",
       "1  [in, baltimore's, call, for, federal, police, probe,, a, new, search, for, answers, (+video):, while, some, justice, department, investigations, are, adversarial,, a, new, model, of, collaborative, reform, is, surprising, police, in, some, cities...   \n",
       "\n",
       "                                                                                                                                                                                                                                                      lemmas  \n",
       "0  [whirlwind, day, d.c, showcase, trump, unorthodox, view, shift, tone, donald, trump, endorse, unabashedly, noninterventionist, approach, world, affair, monday, day, long, tour, washington, cast, doubt, need, north, atlantic, treaty, organization,...  \n",
       "1  [baltimore, federal, police, probe, new, search, answer, +, video, justice, department, investigation, adversarial, new, model, collaborative, reform, surprising, police, city, find, include, solution, search, framework, heal, baltimore, mayor, s...  "
      ]
     },
     "execution_count": 15,
     "metadata": {},
     "output_type": "execute_result"
    }
   ],
   "source": [
    "dflc['lemmas'] = batch_preprocess_texts(dflc['news'], nlp=nlp, use_lemmas=True)\n",
    "dflc.head(2)"
   ]
  },
  {
   "cell_type": "code",
   "execution_count": 16,
   "id": "b9d3c90d-39a4-4868-9f40-b98724306bce",
   "metadata": {},
   "outputs": [
    {
     "data": {
      "text/plain": [
       "pandas.core.series.Series"
      ]
     },
     "execution_count": 16,
     "metadata": {},
     "output_type": "execute_result"
    }
   ],
   "source": [
    "type(dflc['lemmas'])"
   ]
  },
  {
   "cell_type": "code",
   "execution_count": 17,
   "id": "8cb45297-0ecd-4bfe-afc6-8852a5a80295",
   "metadata": {},
   "outputs": [
    {
     "data": {
      "text/html": [
       "<div>\n",
       "<style scoped>\n",
       "    .dataframe tbody tr th:only-of-type {\n",
       "        vertical-align: middle;\n",
       "    }\n",
       "\n",
       "    .dataframe tbody tr th {\n",
       "        vertical-align: top;\n",
       "    }\n",
       "\n",
       "    .dataframe thead th {\n",
       "        text-align: right;\n",
       "    }\n",
       "</style>\n",
       "<table border=\"1\" class=\"dataframe\">\n",
       "  <thead>\n",
       "    <tr style=\"text-align: right;\">\n",
       "      <th></th>\n",
       "      <th>label</th>\n",
       "      <th>news</th>\n",
       "      <th>tokens</th>\n",
       "      <th>lemmas</th>\n",
       "    </tr>\n",
       "  </thead>\n",
       "  <tbody>\n",
       "    <tr>\n",
       "      <th>0</th>\n",
       "      <td>REAL</td>\n",
       "      <td>a whirlwind day in d.c. showcases trump’s unorthodox views and shifting tone: donald trump endorsed an unabashedly noninterventionist approach to world affairs monday during a day-long tour of washington, casting doubt on the need for the north a...</td>\n",
       "      <td>a whirlwind day in d.c. showcases trump’s unorthodox views and shifting tone: donald trump endorsed an unabashedly noninterventionist approach to world affairs monday during a day-long tour of washington, casting doubt on the need for the north a...</td>\n",
       "      <td>whirlwind day d.c showcase trump unorthodox view shift tone donald trump endorse unabashedly noninterventionist approach world affair monday day long tour washington cast doubt need north atlantic treaty organization express skepticism muscular u...</td>\n",
       "    </tr>\n",
       "  </tbody>\n",
       "</table>\n",
       "</div>"
      ],
      "text/plain": [
       "  label  \\\n",
       "0  REAL   \n",
       "\n",
       "                                                                                                                                                                                                                                                        news  \\\n",
       "0  a whirlwind day in d.c. showcases trump’s unorthodox views and shifting tone: donald trump endorsed an unabashedly noninterventionist approach to world affairs monday during a day-long tour of washington, casting doubt on the need for the north a...   \n",
       "\n",
       "                                                                                                                                                                                                                                                      tokens  \\\n",
       "0  a whirlwind day in d.c. showcases trump’s unorthodox views and shifting tone: donald trump endorsed an unabashedly noninterventionist approach to world affairs monday during a day-long tour of washington, casting doubt on the need for the north a...   \n",
       "\n",
       "                                                                                                                                                                                                                                                      lemmas  \n",
       "0  whirlwind day d.c showcase trump unorthodox view shift tone donald trump endorse unabashedly noninterventionist approach world affair monday day long tour washington cast doubt need north atlantic treaty organization express skepticism muscular u...  "
      ]
     },
     "execution_count": 17,
     "metadata": {},
     "output_type": "execute_result"
    }
   ],
   "source": [
    "## use a lambda func to convert lists to strings with a space b/w tokens\n",
    "\n",
    "# Join list of tokens into a string with spaces between each token\n",
    "dflc['tokens'] = dflc['tokens'].map(lambda x: \" \".join(x))\n",
    "# Join list of lemmas into a string with spaces between each lemma\n",
    "dflc['lemmas'] = dflc['lemmas'].map(lambda x: \" \".join(x))\n",
    "dflc.head(1)"
   ]
  },
  {
   "cell_type": "markdown",
   "id": "799ec540-a0b1-4397-aca7-6cfbddeef498",
   "metadata": {},
   "source": [
    "## 3. Analyze class blalance and document lengths:"
   ]
  },
  {
   "cell_type": "markdown",
   "id": "adb15e96-e76d-4122-9fe7-8b723874b9a8",
   "metadata": {},
   "source": [
    "#### 1.  What is the class balance?"
   ]
  },
  {
   "cell_type": "code",
   "execution_count": 18,
   "id": "032a68b8-74bc-4a6a-a02f-b5ea04114cb5",
   "metadata": {},
   "outputs": [
    {
     "data": {
      "text/plain": [
       "REAL    3154\n",
       "FAKE    3152\n",
       "Name: label, dtype: int64"
      ]
     },
     "execution_count": 18,
     "metadata": {},
     "output_type": "execute_result"
    }
   ],
   "source": [
    "dflc['label'].value_counts()"
   ]
  },
  {
   "cell_type": "code",
   "execution_count": 19,
   "id": "c0bbfcf6-c37d-4429-b09d-56019bb570ff",
   "metadata": {},
   "outputs": [
    {
     "ename": "SyntaxError",
     "evalue": "invalid syntax (2811807861.py, line 1)",
     "output_type": "error",
     "traceback": [
      "\u001b[1;36m  Cell \u001b[1;32mIn[19], line 1\u001b[1;36m\u001b[0m\n\u001b[1;33m    *  There is a good balance between Real and Fake news articles\u001b[0m\n\u001b[1;37m             ^\u001b[0m\n\u001b[1;31mSyntaxError\u001b[0m\u001b[1;31m:\u001b[0m invalid syntax\n"
     ]
    }
   ],
   "source": [
    "*  There is a good balance between Real and Fake news articles\n",
    "*  3154 real articles\n",
    "*  3152 fake articles"
   ]
  },
  {
   "cell_type": "markdown",
   "id": "81672451-529a-4159-b7db-9641ae071a41",
   "metadata": {},
   "source": [
    "#### 2.  What is the average word count for real and fake news articles?"
   ]
  },
  {
   "cell_type": "markdown",
   "id": "7a13ee19-ac6c-44c7-833a-a417f1934716",
   "metadata": {},
   "source": [
    "#Source:  https://thecleverprogrammer.com/2022/06/22/count-number-of-words-in-a-column-using-python/#:~:text=Summary-,The%20pandas%20library%20doesn't%20have%20any%20method%20to%20count,working%20on%20a%20textual%20dataset."
   ]
  },
  {
   "cell_type": "code",
   "execution_count": null,
   "id": "f7d24855-e0a0-41e7-b29c-0cbbfd8fbed8",
   "metadata": {},
   "outputs": [],
   "source": [
    "dflc['wordcount'] = dflc['tokens'].apply(lambda n: len(n.split()))\n",
    "dflc.head(2)\n"
   ]
  },
  {
   "cell_type": "code",
   "execution_count": null,
   "id": "7247f1e2-9d5b-49a4-b703-de5539c33afb",
   "metadata": {},
   "outputs": [],
   "source": [
    "dflc.groupby('label')['wordcount'].mean()"
   ]
  },
  {
   "cell_type": "markdown",
   "id": "a6452928-ff74-4c6f-a53f-fe64fae575c2",
   "metadata": {},
   "source": [
    "For fake news the average word count is about 690 words, and for real news is about 884 words.\n"
   ]
  },
  {
   "cell_type": "markdown",
   "id": "f6c0b376-5009-4aac-8c77-5875d6527263",
   "metadata": {},
   "source": [
    "### 4. Compare the Wod Frequencies"
   ]
  },
  {
   "cell_type": "code",
   "execution_count": null,
   "id": "0bc43a35-c71f-48df-b64c-3b9ab186d758",
   "metadata": {},
   "outputs": [],
   "source": [
    "real_news = dflc['label']=='REAL'\n",
    "fake_news =dflc['label']=='FAKE'\n",
    "real_news.sum(), fake_news.sum()"
   ]
  },
  {
   "cell_type": "markdown",
   "id": "0d3bb60d-65e7-4ea3-a466-a0ce0c91c3b2",
   "metadata": {},
   "source": [
    "##### Create Frequency Distribution Plots"
   ]
  },
  {
   "cell_type": "code",
   "execution_count": null,
   "id": "6b2fbf08-bd20-40d1-96d1-34460cee716a",
   "metadata": {},
   "outputs": [],
   "source": [
    "#make a single giant string\n",
    "real_news_lemmas = \" \".join(dflc.loc[real_news, 'lemmas'])\n",
    "fake_news_lemmas = \" \".join(dflc.loc[fake_news, 'lemmas'])"
   ]
  },
  {
   "cell_type": "code",
   "execution_count": null,
   "id": "159e932d-7552-48c2-bd05-97364d3e839a",
   "metadata": {},
   "outputs": [],
   "source": [
    "# Split the lemmas into individual token words\n",
    "real_news_lemmas_split = real_news_lemmas.split()\n",
    "# Pass the tokenized lemmas to the class constructor and plot the distribution \n",
    "real_dist = FreqDist(real_news_lemmas_split)\n",
    "ax = real_dist.plot(20, show = False, title='Distribution of Words Real News')\n",
    "plt.tight_layout()\n",
    "plt.savefig('real_news_req_dist.png')"
   ]
  },
  {
   "cell_type": "code",
   "execution_count": null,
   "id": "08ea5c9d-2658-4a91-9fe3-75e6853bd9f7",
   "metadata": {},
   "outputs": [],
   "source": [
    "# Split the lemmas into individual token words\n",
    "fake_news_lemmas_split = fake_news_lemmas.split()\n",
    "# Pass the tokenized lemmas to the class constructor and plot the distribution \n",
    "fake_dist = FreqDist(fake_news_lemmas_split)\n",
    "ax = fake_dist.plot(20, show=False, title='Distribution of Words Fake News')\n",
    "plt.tight_layout()\n",
    "plt.savefig('fake_news_freq_dist.png')"
   ]
  },
  {
   "cell_type": "code",
   "execution_count": null,
   "id": "40096da9-81fe-49db-a17c-9be585d5bdb9",
   "metadata": {},
   "outputs": [],
   "source": [
    "# Make word clouds of raw text\n",
    "# Create an instance of a WordCloud and use the generate method\n",
    "real_cloud = WordCloud(random_state = 42,\n",
    "                      width = 800,\n",
    "                      height = 1000,\n",
    "                      min_word_length = 3, colormap=\"Accent\",\n",
    "                     ).generate(real_news_lemmas)\n",
    "fake_cloud = WordCloud(random_state = 42,\n",
    "                       width = 800,\n",
    "                       height= 1000,\n",
    "                       min_word_length = 3,\n",
    "                       colormap=\"copper\",\n",
    "                      ).generate(fake_news_lemmas)\n",
    "# Plot the wordclouds side by side\n",
    "fig, axes = plt.subplots(ncols=2, figsize=(10, 7))\n",
    "axes[0].imshow(real_cloud, interpolation='bilinear')\n",
    "axes[0].set_title(\"Real News\")\n",
    "axes[1].imshow(fake_cloud, interpolation='bilinear')\n",
    "axes[1].set_title(\"Fake News\")\n",
    "[ax.axis('off') for ax in axes]\n",
    "fig.tight_layout();\n",
    "fig.suptitle('Word Clouds - Real vs Fake News', fontsize=20, y=1.05);"
   ]
  },
  {
   "cell_type": "markdown",
   "id": "201c8bfe-5827-442f-89ee-6969bcd4f59d",
   "metadata": {},
   "source": [
    "## Text Classification with Sklearn"
   ]
  },
  {
   "cell_type": "markdown",
   "id": "58b0bd1d-2b14-4321-9a8b-04e4cb9608a5",
   "metadata": {},
   "source": [
    "### 2.  Prepare Imports and Functions"
   ]
  },
  {
   "cell_type": "code",
   "execution_count": null,
   "id": "9ba05062-39a8-486b-af6a-510e1015aabf",
   "metadata": {},
   "outputs": [],
   "source": []
  },
  {
   "cell_type": "code",
   "execution_count": null,
   "id": "d1c44fba-def1-4690-8959-f1785c3ff827",
   "metadata": {},
   "outputs": [],
   "source": []
  },
  {
   "cell_type": "code",
   "execution_count": null,
   "id": "a21b3acc-d0f9-4a9d-8e6d-2da81e4dce37",
   "metadata": {},
   "outputs": [],
   "source": []
  },
  {
   "cell_type": "code",
   "execution_count": null,
   "id": "0f393b53-19ee-445c-bf64-6b98347211bd",
   "metadata": {},
   "outputs": [],
   "source": []
  },
  {
   "cell_type": "code",
   "execution_count": null,
   "id": "5805b409-b737-4a5a-93f7-c4cf59e7f0be",
   "metadata": {},
   "outputs": [],
   "source": []
  },
  {
   "cell_type": "code",
   "execution_count": null,
   "id": "f00e1eb5-2531-484c-b752-975157cf4b9a",
   "metadata": {},
   "outputs": [],
   "source": []
  },
  {
   "cell_type": "code",
   "execution_count": null,
   "id": "d37dc124-e62c-46ac-8ef6-6afde59e6c45",
   "metadata": {},
   "outputs": [],
   "source": []
  },
  {
   "cell_type": "code",
   "execution_count": null,
   "id": "acff3f31-4f65-4972-9366-7b580050b391",
   "metadata": {},
   "outputs": [],
   "source": []
  },
  {
   "cell_type": "code",
   "execution_count": null,
   "id": "2240a068-dc52-41d8-8ab3-98052f407302",
   "metadata": {},
   "outputs": [],
   "source": []
  },
  {
   "cell_type": "code",
   "execution_count": null,
   "id": "7a40e299-ed70-491b-9c8e-97b326e17e51",
   "metadata": {},
   "outputs": [],
   "source": []
  }
 ],
 "metadata": {
  "kernelspec": {
   "display_name": "Python (dojo-env)",
   "language": "python",
   "name": "dojo-env"
  },
  "language_info": {
   "codemirror_mode": {
    "name": "ipython",
    "version": 3
   },
   "file_extension": ".py",
   "mimetype": "text/x-python",
   "name": "python",
   "nbconvert_exporter": "python",
   "pygments_lexer": "ipython3",
   "version": "3.10.10"
  },
  "widgets": {
   "application/vnd.jupyter.widget-state+json": {
    "state": {},
    "version_major": 2,
    "version_minor": 0
   }
  }
 },
 "nbformat": 4,
 "nbformat_minor": 5
}
